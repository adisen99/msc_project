{
 "cells": [
  {
   "cell_type": "markdown",
   "id": "568c7e4a",
   "metadata": {},
   "source": [
    "# MSc Project : Extending to lat-lon\n",
    "\n",
    "### Using 2019 Monsoon season (JJAS) - Temp (at 2m) and Precipitaion (TRMM/GPM data) to find a relation b/w ERRs and maximum temperature."
   ]
  },
  {
   "cell_type": "code",
   "execution_count": 30,
   "id": "0e06947d",
   "metadata": {},
   "outputs": [],
   "source": [
    "import numpy as np\n",
    "import matplotlib.pyplot as plt\n",
    "import xarray as xr\n",
    "import cartopy.crs as ccrs\n",
    "import cartopy.feature as cfeature\n",
    "# import netCDF4\n",
    "# import pandas as pd\n",
    "# from datetime import datetime\n",
    "# from datetime import timedelta\n",
    "# from scipy import stats\n",
    "# import scipy.interpolate as interp\n",
    "from dask.distributed import Client, Variable\n",
    "%matplotlib inline"
   ]
  },
  {
   "cell_type": "code",
   "execution_count": 2,
   "id": "f1396d59",
   "metadata": {},
   "outputs": [],
   "source": [
    "from functions import ccplot, binning"
   ]
  },
  {
   "cell_type": "code",
   "execution_count": 3,
   "id": "931095a7",
   "metadata": {},
   "outputs": [],
   "source": [
    "import seaborn as sns\n",
    "# Use seaborn style defaults and set default figure size\n",
    "plt.style.use('seaborn-pastel')\n",
    "sns.set_theme(style=\"ticks\")"
   ]
  },
  {
   "cell_type": "code",
   "execution_count": 4,
   "id": "51fe2686",
   "metadata": {},
   "outputs": [
    {
     "data": {
      "text/plain": [
       "<xarray.core.options.set_options at 0x7f4249ef1e80>"
      ]
     },
     "execution_count": 4,
     "metadata": {},
     "output_type": "execute_result"
    }
   ],
   "source": [
    "# Colormap selection\n",
    "xr.set_options(cmap_divergent='RdBu', cmap_sequential='Greens')"
   ]
  },
  {
   "cell_type": "code",
   "execution_count": 5,
   "id": "e65a509c",
   "metadata": {},
   "outputs": [],
   "source": [
    "# ds_comb.to_netcdf('./data/combined/ds_comb.nc')\n",
    "ds_comb = xr.open_dataset('./data/combined/ds_comb.nc')"
   ]
  },
  {
   "cell_type": "code",
   "execution_count": 6,
   "id": "c129b1e6",
   "metadata": {},
   "outputs": [
    {
     "data": {
      "text/html": [
       "<div><svg style=\"position: absolute; width: 0; height: 0; overflow: hidden\">\n",
       "<defs>\n",
       "<symbol id=\"icon-database\" viewBox=\"0 0 32 32\">\n",
       "<path d=\"M16 0c-8.837 0-16 2.239-16 5v4c0 2.761 7.163 5 16 5s16-2.239 16-5v-4c0-2.761-7.163-5-16-5z\"></path>\n",
       "<path d=\"M16 17c-8.837 0-16-2.239-16-5v6c0 2.761 7.163 5 16 5s16-2.239 16-5v-6c0 2.761-7.163 5-16 5z\"></path>\n",
       "<path d=\"M16 26c-8.837 0-16-2.239-16-5v6c0 2.761 7.163 5 16 5s16-2.239 16-5v-6c0 2.761-7.163 5-16 5z\"></path>\n",
       "</symbol>\n",
       "<symbol id=\"icon-file-text2\" viewBox=\"0 0 32 32\">\n",
       "<path d=\"M28.681 7.159c-0.694-0.947-1.662-2.053-2.724-3.116s-2.169-2.030-3.116-2.724c-1.612-1.182-2.393-1.319-2.841-1.319h-15.5c-1.378 0-2.5 1.121-2.5 2.5v27c0 1.378 1.122 2.5 2.5 2.5h23c1.378 0 2.5-1.122 2.5-2.5v-19.5c0-0.448-0.137-1.23-1.319-2.841zM24.543 5.457c0.959 0.959 1.712 1.825 2.268 2.543h-4.811v-4.811c0.718 0.556 1.584 1.309 2.543 2.268zM28 29.5c0 0.271-0.229 0.5-0.5 0.5h-23c-0.271 0-0.5-0.229-0.5-0.5v-27c0-0.271 0.229-0.5 0.5-0.5 0 0 15.499-0 15.5 0v7c0 0.552 0.448 1 1 1h7v19.5z\"></path>\n",
       "<path d=\"M23 26h-14c-0.552 0-1-0.448-1-1s0.448-1 1-1h14c0.552 0 1 0.448 1 1s-0.448 1-1 1z\"></path>\n",
       "<path d=\"M23 22h-14c-0.552 0-1-0.448-1-1s0.448-1 1-1h14c0.552 0 1 0.448 1 1s-0.448 1-1 1z\"></path>\n",
       "<path d=\"M23 18h-14c-0.552 0-1-0.448-1-1s0.448-1 1-1h14c0.552 0 1 0.448 1 1s-0.448 1-1 1z\"></path>\n",
       "</symbol>\n",
       "</defs>\n",
       "</svg>\n",
       "<style>/* CSS stylesheet for displaying xarray objects in jupyterlab.\n",
       " *\n",
       " */\n",
       "\n",
       ":root {\n",
       "  --xr-font-color0: var(--jp-content-font-color0, rgba(0, 0, 0, 1));\n",
       "  --xr-font-color2: var(--jp-content-font-color2, rgba(0, 0, 0, 0.54));\n",
       "  --xr-font-color3: var(--jp-content-font-color3, rgba(0, 0, 0, 0.38));\n",
       "  --xr-border-color: var(--jp-border-color2, #e0e0e0);\n",
       "  --xr-disabled-color: var(--jp-layout-color3, #bdbdbd);\n",
       "  --xr-background-color: var(--jp-layout-color0, white);\n",
       "  --xr-background-color-row-even: var(--jp-layout-color1, white);\n",
       "  --xr-background-color-row-odd: var(--jp-layout-color2, #eeeeee);\n",
       "}\n",
       "\n",
       "html[theme=dark],\n",
       "body.vscode-dark {\n",
       "  --xr-font-color0: rgba(255, 255, 255, 1);\n",
       "  --xr-font-color2: rgba(255, 255, 255, 0.54);\n",
       "  --xr-font-color3: rgba(255, 255, 255, 0.38);\n",
       "  --xr-border-color: #1F1F1F;\n",
       "  --xr-disabled-color: #515151;\n",
       "  --xr-background-color: #111111;\n",
       "  --xr-background-color-row-even: #111111;\n",
       "  --xr-background-color-row-odd: #313131;\n",
       "}\n",
       "\n",
       ".xr-wrap {\n",
       "  display: block;\n",
       "  min-width: 300px;\n",
       "  max-width: 700px;\n",
       "}\n",
       "\n",
       ".xr-text-repr-fallback {\n",
       "  /* fallback to plain text repr when CSS is not injected (untrusted notebook) */\n",
       "  display: none;\n",
       "}\n",
       "\n",
       ".xr-header {\n",
       "  padding-top: 6px;\n",
       "  padding-bottom: 6px;\n",
       "  margin-bottom: 4px;\n",
       "  border-bottom: solid 1px var(--xr-border-color);\n",
       "}\n",
       "\n",
       ".xr-header > div,\n",
       ".xr-header > ul {\n",
       "  display: inline;\n",
       "  margin-top: 0;\n",
       "  margin-bottom: 0;\n",
       "}\n",
       "\n",
       ".xr-obj-type,\n",
       ".xr-array-name {\n",
       "  margin-left: 2px;\n",
       "  margin-right: 10px;\n",
       "}\n",
       "\n",
       ".xr-obj-type {\n",
       "  color: var(--xr-font-color2);\n",
       "}\n",
       "\n",
       ".xr-sections {\n",
       "  padding-left: 0 !important;\n",
       "  display: grid;\n",
       "  grid-template-columns: 150px auto auto 1fr 20px 20px;\n",
       "}\n",
       "\n",
       ".xr-section-item {\n",
       "  display: contents;\n",
       "}\n",
       "\n",
       ".xr-section-item input {\n",
       "  display: none;\n",
       "}\n",
       "\n",
       ".xr-section-item input + label {\n",
       "  color: var(--xr-disabled-color);\n",
       "}\n",
       "\n",
       ".xr-section-item input:enabled + label {\n",
       "  cursor: pointer;\n",
       "  color: var(--xr-font-color2);\n",
       "}\n",
       "\n",
       ".xr-section-item input:enabled + label:hover {\n",
       "  color: var(--xr-font-color0);\n",
       "}\n",
       "\n",
       ".xr-section-summary {\n",
       "  grid-column: 1;\n",
       "  color: var(--xr-font-color2);\n",
       "  font-weight: 500;\n",
       "}\n",
       "\n",
       ".xr-section-summary > span {\n",
       "  display: inline-block;\n",
       "  padding-left: 0.5em;\n",
       "}\n",
       "\n",
       ".xr-section-summary-in:disabled + label {\n",
       "  color: var(--xr-font-color2);\n",
       "}\n",
       "\n",
       ".xr-section-summary-in + label:before {\n",
       "  display: inline-block;\n",
       "  content: '►';\n",
       "  font-size: 11px;\n",
       "  width: 15px;\n",
       "  text-align: center;\n",
       "}\n",
       "\n",
       ".xr-section-summary-in:disabled + label:before {\n",
       "  color: var(--xr-disabled-color);\n",
       "}\n",
       "\n",
       ".xr-section-summary-in:checked + label:before {\n",
       "  content: '▼';\n",
       "}\n",
       "\n",
       ".xr-section-summary-in:checked + label > span {\n",
       "  display: none;\n",
       "}\n",
       "\n",
       ".xr-section-summary,\n",
       ".xr-section-inline-details {\n",
       "  padding-top: 4px;\n",
       "  padding-bottom: 4px;\n",
       "}\n",
       "\n",
       ".xr-section-inline-details {\n",
       "  grid-column: 2 / -1;\n",
       "}\n",
       "\n",
       ".xr-section-details {\n",
       "  display: none;\n",
       "  grid-column: 1 / -1;\n",
       "  margin-bottom: 5px;\n",
       "}\n",
       "\n",
       ".xr-section-summary-in:checked ~ .xr-section-details {\n",
       "  display: contents;\n",
       "}\n",
       "\n",
       ".xr-array-wrap {\n",
       "  grid-column: 1 / -1;\n",
       "  display: grid;\n",
       "  grid-template-columns: 20px auto;\n",
       "}\n",
       "\n",
       ".xr-array-wrap > label {\n",
       "  grid-column: 1;\n",
       "  vertical-align: top;\n",
       "}\n",
       "\n",
       ".xr-preview {\n",
       "  color: var(--xr-font-color3);\n",
       "}\n",
       "\n",
       ".xr-array-preview,\n",
       ".xr-array-data {\n",
       "  padding: 0 5px !important;\n",
       "  grid-column: 2;\n",
       "}\n",
       "\n",
       ".xr-array-data,\n",
       ".xr-array-in:checked ~ .xr-array-preview {\n",
       "  display: none;\n",
       "}\n",
       "\n",
       ".xr-array-in:checked ~ .xr-array-data,\n",
       ".xr-array-preview {\n",
       "  display: inline-block;\n",
       "}\n",
       "\n",
       ".xr-dim-list {\n",
       "  display: inline-block !important;\n",
       "  list-style: none;\n",
       "  padding: 0 !important;\n",
       "  margin: 0;\n",
       "}\n",
       "\n",
       ".xr-dim-list li {\n",
       "  display: inline-block;\n",
       "  padding: 0;\n",
       "  margin: 0;\n",
       "}\n",
       "\n",
       ".xr-dim-list:before {\n",
       "  content: '(';\n",
       "}\n",
       "\n",
       ".xr-dim-list:after {\n",
       "  content: ')';\n",
       "}\n",
       "\n",
       ".xr-dim-list li:not(:last-child):after {\n",
       "  content: ',';\n",
       "  padding-right: 5px;\n",
       "}\n",
       "\n",
       ".xr-has-index {\n",
       "  font-weight: bold;\n",
       "}\n",
       "\n",
       ".xr-var-list,\n",
       ".xr-var-item {\n",
       "  display: contents;\n",
       "}\n",
       "\n",
       ".xr-var-item > div,\n",
       ".xr-var-item label,\n",
       ".xr-var-item > .xr-var-name span {\n",
       "  background-color: var(--xr-background-color-row-even);\n",
       "  margin-bottom: 0;\n",
       "}\n",
       "\n",
       ".xr-var-item > .xr-var-name:hover span {\n",
       "  padding-right: 5px;\n",
       "}\n",
       "\n",
       ".xr-var-list > li:nth-child(odd) > div,\n",
       ".xr-var-list > li:nth-child(odd) > label,\n",
       ".xr-var-list > li:nth-child(odd) > .xr-var-name span {\n",
       "  background-color: var(--xr-background-color-row-odd);\n",
       "}\n",
       "\n",
       ".xr-var-name {\n",
       "  grid-column: 1;\n",
       "}\n",
       "\n",
       ".xr-var-dims {\n",
       "  grid-column: 2;\n",
       "}\n",
       "\n",
       ".xr-var-dtype {\n",
       "  grid-column: 3;\n",
       "  text-align: right;\n",
       "  color: var(--xr-font-color2);\n",
       "}\n",
       "\n",
       ".xr-var-preview {\n",
       "  grid-column: 4;\n",
       "}\n",
       "\n",
       ".xr-var-name,\n",
       ".xr-var-dims,\n",
       ".xr-var-dtype,\n",
       ".xr-preview,\n",
       ".xr-attrs dt {\n",
       "  white-space: nowrap;\n",
       "  overflow: hidden;\n",
       "  text-overflow: ellipsis;\n",
       "  padding-right: 10px;\n",
       "}\n",
       "\n",
       ".xr-var-name:hover,\n",
       ".xr-var-dims:hover,\n",
       ".xr-var-dtype:hover,\n",
       ".xr-attrs dt:hover {\n",
       "  overflow: visible;\n",
       "  width: auto;\n",
       "  z-index: 1;\n",
       "}\n",
       "\n",
       ".xr-var-attrs,\n",
       ".xr-var-data {\n",
       "  display: none;\n",
       "  background-color: var(--xr-background-color) !important;\n",
       "  padding-bottom: 5px !important;\n",
       "}\n",
       "\n",
       ".xr-var-attrs-in:checked ~ .xr-var-attrs,\n",
       ".xr-var-data-in:checked ~ .xr-var-data {\n",
       "  display: block;\n",
       "}\n",
       "\n",
       ".xr-var-data > table {\n",
       "  float: right;\n",
       "}\n",
       "\n",
       ".xr-var-name span,\n",
       ".xr-var-data,\n",
       ".xr-attrs {\n",
       "  padding-left: 25px !important;\n",
       "}\n",
       "\n",
       ".xr-attrs,\n",
       ".xr-var-attrs,\n",
       ".xr-var-data {\n",
       "  grid-column: 1 / -1;\n",
       "}\n",
       "\n",
       "dl.xr-attrs {\n",
       "  padding: 0;\n",
       "  margin: 0;\n",
       "  display: grid;\n",
       "  grid-template-columns: 125px auto;\n",
       "}\n",
       "\n",
       ".xr-attrs dt,\n",
       ".xr-attrs dd {\n",
       "  padding: 0;\n",
       "  margin: 0;\n",
       "  float: left;\n",
       "  padding-right: 10px;\n",
       "  width: auto;\n",
       "}\n",
       "\n",
       ".xr-attrs dt {\n",
       "  font-weight: normal;\n",
       "  grid-column: 1;\n",
       "}\n",
       "\n",
       ".xr-attrs dt:hover span {\n",
       "  display: inline-block;\n",
       "  background: var(--xr-background-color);\n",
       "  padding-right: 10px;\n",
       "}\n",
       "\n",
       ".xr-attrs dd {\n",
       "  grid-column: 2;\n",
       "  white-space: pre-wrap;\n",
       "  word-break: break-all;\n",
       "}\n",
       "\n",
       ".xr-icon-database,\n",
       ".xr-icon-file-text2 {\n",
       "  display: inline-block;\n",
       "  vertical-align: middle;\n",
       "  width: 1em;\n",
       "  height: 1.5em !important;\n",
       "  stroke-width: 0;\n",
       "  stroke: currentColor;\n",
       "  fill: currentColor;\n",
       "}\n",
       "</style><pre class='xr-text-repr-fallback'>&lt;xarray.Dataset&gt;\n",
       "Dimensions:           (lon: 181, lat: 141, time: 2928)\n",
       "Coordinates:\n",
       "  * lon               (lon) float64 50.0 50.25 50.5 50.75 ... 94.5 94.75 95.0\n",
       "  * lat               (lat) float64 5.0 5.25 5.5 5.75 ... 39.25 39.5 39.75 40.0\n",
       "  * time              (time) datetime64[ns] 2019-06-01 ... 2019-09-30T23:00:00\n",
       "Data variables:\n",
       "    precipitationCal  (time, lat, lon) float32 ...\n",
       "    t2m               (time, lat, lon) float32 ...\n",
       "    d2m               (time, lat, lon) float32 ...</pre><div class='xr-wrap' hidden><div class='xr-header'><div class='xr-obj-type'>xarray.Dataset</div></div><ul class='xr-sections'><li class='xr-section-item'><input id='section-55f0b611-03a9-4198-8026-d089b05106be' class='xr-section-summary-in' type='checkbox' disabled ><label for='section-55f0b611-03a9-4198-8026-d089b05106be' class='xr-section-summary'  title='Expand/collapse section'>Dimensions:</label><div class='xr-section-inline-details'><ul class='xr-dim-list'><li><span class='xr-has-index'>lon</span>: 181</li><li><span class='xr-has-index'>lat</span>: 141</li><li><span class='xr-has-index'>time</span>: 2928</li></ul></div><div class='xr-section-details'></div></li><li class='xr-section-item'><input id='section-e298f4f3-e06e-4218-bd82-79a9c72816ea' class='xr-section-summary-in' type='checkbox'  checked><label for='section-e298f4f3-e06e-4218-bd82-79a9c72816ea' class='xr-section-summary' >Coordinates: <span>(3)</span></label><div class='xr-section-inline-details'></div><div class='xr-section-details'><ul class='xr-var-list'><li class='xr-var-item'><div class='xr-var-name'><span class='xr-has-index'>lon</span></div><div class='xr-var-dims'>(lon)</div><div class='xr-var-dtype'>float64</div><div class='xr-var-preview xr-preview'>50.0 50.25 50.5 ... 94.5 94.75 95.0</div><input id='attrs-091a9bc3-3e45-488a-aeec-a26d5956cd1d' class='xr-var-attrs-in' type='checkbox' ><label for='attrs-091a9bc3-3e45-488a-aeec-a26d5956cd1d' title='Show/Hide attributes'><svg class='icon xr-icon-file-text2'><use xlink:href='#icon-file-text2'></use></svg></label><input id='data-a094d0e4-546e-4ca9-a24c-93951a7211cb' class='xr-var-data-in' type='checkbox'><label for='data-a094d0e4-546e-4ca9-a24c-93951a7211cb' title='Show/Hide data repr'><svg class='icon xr-icon-database'><use xlink:href='#icon-database'></use></svg></label><div class='xr-var-attrs'><dl class='xr-attrs'><dt><span>standard_name :</span></dt><dd>longitude</dd><dt><span>long_name :</span></dt><dd>Longitude</dd><dt><span>units :</span></dt><dd>degrees_east</dd><dt><span>axis :</span></dt><dd>X</dd></dl></div><div class='xr-var-data'><pre>array([50.  , 50.25, 50.5 , 50.75, 51.  , 51.25, 51.5 , 51.75, 52.  , 52.25,\n",
       "       52.5 , 52.75, 53.  , 53.25, 53.5 , 53.75, 54.  , 54.25, 54.5 , 54.75,\n",
       "       55.  , 55.25, 55.5 , 55.75, 56.  , 56.25, 56.5 , 56.75, 57.  , 57.25,\n",
       "       57.5 , 57.75, 58.  , 58.25, 58.5 , 58.75, 59.  , 59.25, 59.5 , 59.75,\n",
       "       60.  , 60.25, 60.5 , 60.75, 61.  , 61.25, 61.5 , 61.75, 62.  , 62.25,\n",
       "       62.5 , 62.75, 63.  , 63.25, 63.5 , 63.75, 64.  , 64.25, 64.5 , 64.75,\n",
       "       65.  , 65.25, 65.5 , 65.75, 66.  , 66.25, 66.5 , 66.75, 67.  , 67.25,\n",
       "       67.5 , 67.75, 68.  , 68.25, 68.5 , 68.75, 69.  , 69.25, 69.5 , 69.75,\n",
       "       70.  , 70.25, 70.5 , 70.75, 71.  , 71.25, 71.5 , 71.75, 72.  , 72.25,\n",
       "       72.5 , 72.75, 73.  , 73.25, 73.5 , 73.75, 74.  , 74.25, 74.5 , 74.75,\n",
       "       75.  , 75.25, 75.5 , 75.75, 76.  , 76.25, 76.5 , 76.75, 77.  , 77.25,\n",
       "       77.5 , 77.75, 78.  , 78.25, 78.5 , 78.75, 79.  , 79.25, 79.5 , 79.75,\n",
       "       80.  , 80.25, 80.5 , 80.75, 81.  , 81.25, 81.5 , 81.75, 82.  , 82.25,\n",
       "       82.5 , 82.75, 83.  , 83.25, 83.5 , 83.75, 84.  , 84.25, 84.5 , 84.75,\n",
       "       85.  , 85.25, 85.5 , 85.75, 86.  , 86.25, 86.5 , 86.75, 87.  , 87.25,\n",
       "       87.5 , 87.75, 88.  , 88.25, 88.5 , 88.75, 89.  , 89.25, 89.5 , 89.75,\n",
       "       90.  , 90.25, 90.5 , 90.75, 91.  , 91.25, 91.5 , 91.75, 92.  , 92.25,\n",
       "       92.5 , 92.75, 93.  , 93.25, 93.5 , 93.75, 94.  , 94.25, 94.5 , 94.75,\n",
       "       95.  ])</pre></div></li><li class='xr-var-item'><div class='xr-var-name'><span class='xr-has-index'>lat</span></div><div class='xr-var-dims'>(lat)</div><div class='xr-var-dtype'>float64</div><div class='xr-var-preview xr-preview'>5.0 5.25 5.5 ... 39.5 39.75 40.0</div><input id='attrs-6fdb966c-9abd-4305-bedb-263c9b640eb1' class='xr-var-attrs-in' type='checkbox' ><label for='attrs-6fdb966c-9abd-4305-bedb-263c9b640eb1' title='Show/Hide attributes'><svg class='icon xr-icon-file-text2'><use xlink:href='#icon-file-text2'></use></svg></label><input id='data-05d3f39e-7c5b-4ccd-aa5b-52a619197ba2' class='xr-var-data-in' type='checkbox'><label for='data-05d3f39e-7c5b-4ccd-aa5b-52a619197ba2' title='Show/Hide data repr'><svg class='icon xr-icon-database'><use xlink:href='#icon-database'></use></svg></label><div class='xr-var-attrs'><dl class='xr-attrs'><dt><span>standard_name :</span></dt><dd>latitude</dd><dt><span>long_name :</span></dt><dd>Latitude</dd><dt><span>units :</span></dt><dd>degrees_north</dd><dt><span>axis :</span></dt><dd>Y</dd></dl></div><div class='xr-var-data'><pre>array([ 5.  ,  5.25,  5.5 ,  5.75,  6.  ,  6.25,  6.5 ,  6.75,  7.  ,  7.25,\n",
       "        7.5 ,  7.75,  8.  ,  8.25,  8.5 ,  8.75,  9.  ,  9.25,  9.5 ,  9.75,\n",
       "       10.  , 10.25, 10.5 , 10.75, 11.  , 11.25, 11.5 , 11.75, 12.  , 12.25,\n",
       "       12.5 , 12.75, 13.  , 13.25, 13.5 , 13.75, 14.  , 14.25, 14.5 , 14.75,\n",
       "       15.  , 15.25, 15.5 , 15.75, 16.  , 16.25, 16.5 , 16.75, 17.  , 17.25,\n",
       "       17.5 , 17.75, 18.  , 18.25, 18.5 , 18.75, 19.  , 19.25, 19.5 , 19.75,\n",
       "       20.  , 20.25, 20.5 , 20.75, 21.  , 21.25, 21.5 , 21.75, 22.  , 22.25,\n",
       "       22.5 , 22.75, 23.  , 23.25, 23.5 , 23.75, 24.  , 24.25, 24.5 , 24.75,\n",
       "       25.  , 25.25, 25.5 , 25.75, 26.  , 26.25, 26.5 , 26.75, 27.  , 27.25,\n",
       "       27.5 , 27.75, 28.  , 28.25, 28.5 , 28.75, 29.  , 29.25, 29.5 , 29.75,\n",
       "       30.  , 30.25, 30.5 , 30.75, 31.  , 31.25, 31.5 , 31.75, 32.  , 32.25,\n",
       "       32.5 , 32.75, 33.  , 33.25, 33.5 , 33.75, 34.  , 34.25, 34.5 , 34.75,\n",
       "       35.  , 35.25, 35.5 , 35.75, 36.  , 36.25, 36.5 , 36.75, 37.  , 37.25,\n",
       "       37.5 , 37.75, 38.  , 38.25, 38.5 , 38.75, 39.  , 39.25, 39.5 , 39.75,\n",
       "       40.  ])</pre></div></li><li class='xr-var-item'><div class='xr-var-name'><span class='xr-has-index'>time</span></div><div class='xr-var-dims'>(time)</div><div class='xr-var-dtype'>datetime64[ns]</div><div class='xr-var-preview xr-preview'>2019-06-01 ... 2019-09-30T23:00:00</div><input id='attrs-892752b1-b661-431f-af94-18179e15119f' class='xr-var-attrs-in' type='checkbox' disabled><label for='attrs-892752b1-b661-431f-af94-18179e15119f' title='Show/Hide attributes'><svg class='icon xr-icon-file-text2'><use xlink:href='#icon-file-text2'></use></svg></label><input id='data-3effb250-d535-4fbf-8932-abc74964d1d5' class='xr-var-data-in' type='checkbox'><label for='data-3effb250-d535-4fbf-8932-abc74964d1d5' title='Show/Hide data repr'><svg class='icon xr-icon-database'><use xlink:href='#icon-database'></use></svg></label><div class='xr-var-attrs'><dl class='xr-attrs'></dl></div><div class='xr-var-data'><pre>array([&#x27;2019-06-01T00:00:00.000000000&#x27;, &#x27;2019-06-01T01:00:00.000000000&#x27;,\n",
       "       &#x27;2019-06-01T02:00:00.000000000&#x27;, ..., &#x27;2019-09-30T21:00:00.000000000&#x27;,\n",
       "       &#x27;2019-09-30T22:00:00.000000000&#x27;, &#x27;2019-09-30T23:00:00.000000000&#x27;],\n",
       "      dtype=&#x27;datetime64[ns]&#x27;)</pre></div></li></ul></div></li><li class='xr-section-item'><input id='section-0f11fc1a-6501-4ec0-b0a2-f037d7e949e7' class='xr-section-summary-in' type='checkbox'  checked><label for='section-0f11fc1a-6501-4ec0-b0a2-f037d7e949e7' class='xr-section-summary' >Data variables: <span>(3)</span></label><div class='xr-section-inline-details'></div><div class='xr-section-details'><ul class='xr-var-list'><li class='xr-var-item'><div class='xr-var-name'><span>precipitationCal</span></div><div class='xr-var-dims'>(time, lat, lon)</div><div class='xr-var-dtype'>float32</div><div class='xr-var-preview xr-preview'>...</div><input id='attrs-992bd0c3-2653-46d2-8504-4d340163c752' class='xr-var-attrs-in' type='checkbox' disabled><label for='attrs-992bd0c3-2653-46d2-8504-4d340163c752' title='Show/Hide attributes'><svg class='icon xr-icon-file-text2'><use xlink:href='#icon-file-text2'></use></svg></label><input id='data-f65d9c1d-e0f7-4aea-af1d-4a4001c03b1a' class='xr-var-data-in' type='checkbox'><label for='data-f65d9c1d-e0f7-4aea-af1d-4a4001c03b1a' title='Show/Hide data repr'><svg class='icon xr-icon-database'><use xlink:href='#icon-database'></use></svg></label><div class='xr-var-attrs'><dl class='xr-attrs'></dl></div><div class='xr-var-data'><pre>[74725488 values with dtype=float32]</pre></div></li><li class='xr-var-item'><div class='xr-var-name'><span>t2m</span></div><div class='xr-var-dims'>(time, lat, lon)</div><div class='xr-var-dtype'>float32</div><div class='xr-var-preview xr-preview'>...</div><input id='attrs-50647b0c-faee-4284-a87a-d398a0d2e231' class='xr-var-attrs-in' type='checkbox' ><label for='attrs-50647b0c-faee-4284-a87a-d398a0d2e231' title='Show/Hide attributes'><svg class='icon xr-icon-file-text2'><use xlink:href='#icon-file-text2'></use></svg></label><input id='data-e3d3165e-f6e3-4cd6-8e57-251f7a76aa02' class='xr-var-data-in' type='checkbox'><label for='data-e3d3165e-f6e3-4cd6-8e57-251f7a76aa02' title='Show/Hide data repr'><svg class='icon xr-icon-database'><use xlink:href='#icon-database'></use></svg></label><div class='xr-var-attrs'><dl class='xr-attrs'><dt><span>units :</span></dt><dd>K</dd><dt><span>long_name :</span></dt><dd>2 metre temperature</dd></dl></div><div class='xr-var-data'><pre>[74725488 values with dtype=float32]</pre></div></li><li class='xr-var-item'><div class='xr-var-name'><span>d2m</span></div><div class='xr-var-dims'>(time, lat, lon)</div><div class='xr-var-dtype'>float32</div><div class='xr-var-preview xr-preview'>...</div><input id='attrs-19da44e5-2e72-4c1a-98eb-f37efbeb2c24' class='xr-var-attrs-in' type='checkbox' ><label for='attrs-19da44e5-2e72-4c1a-98eb-f37efbeb2c24' title='Show/Hide attributes'><svg class='icon xr-icon-file-text2'><use xlink:href='#icon-file-text2'></use></svg></label><input id='data-2ecdeb7d-049e-4d9c-bb9b-7e379847e572' class='xr-var-data-in' type='checkbox'><label for='data-2ecdeb7d-049e-4d9c-bb9b-7e379847e572' title='Show/Hide data repr'><svg class='icon xr-icon-database'><use xlink:href='#icon-database'></use></svg></label><div class='xr-var-attrs'><dl class='xr-attrs'><dt><span>units :</span></dt><dd>K</dd><dt><span>long_name :</span></dt><dd>2 metre dewpoint temperature</dd></dl></div><div class='xr-var-data'><pre>[74725488 values with dtype=float32]</pre></div></li></ul></div></li><li class='xr-section-item'><input id='section-a76e7887-0fdf-41e7-b1b6-e71fd7e86a49' class='xr-section-summary-in' type='checkbox' disabled ><label for='section-a76e7887-0fdf-41e7-b1b6-e71fd7e86a49' class='xr-section-summary'  title='Expand/collapse section'>Attributes: <span>(0)</span></label><div class='xr-section-inline-details'></div><div class='xr-section-details'><dl class='xr-attrs'></dl></div></li></ul></div></div>"
      ],
      "text/plain": [
       "<xarray.Dataset>\n",
       "Dimensions:           (lon: 181, lat: 141, time: 2928)\n",
       "Coordinates:\n",
       "  * lon               (lon) float64 50.0 50.25 50.5 50.75 ... 94.5 94.75 95.0\n",
       "  * lat               (lat) float64 5.0 5.25 5.5 5.75 ... 39.25 39.5 39.75 40.0\n",
       "  * time              (time) datetime64[ns] 2019-06-01 ... 2019-09-30T23:00:00\n",
       "Data variables:\n",
       "    precipitationCal  (time, lat, lon) float32 ...\n",
       "    t2m               (time, lat, lon) float32 ...\n",
       "    d2m               (time, lat, lon) float32 ..."
      ]
     },
     "execution_count": 6,
     "metadata": {},
     "output_type": "execute_result"
    }
   ],
   "source": [
    "ds_comb"
   ]
  },
  {
   "cell_type": "code",
   "execution_count": 7,
   "id": "1fd10e3a",
   "metadata": {},
   "outputs": [
    {
     "data": {
      "text/plain": [
       "<matplotlib.collections.QuadMesh at 0x7f4249bbfb50>"
      ]
     },
     "execution_count": 7,
     "metadata": {},
     "output_type": "execute_result"
    },
    {
     "data": {
      "image/png": "[encoded data removed]",
      "text/plain": [
       "<Figure size 432x288 with 2 Axes>"
      ]
     },
     "metadata": {},
     "output_type": "display_data"
    }
   ],
   "source": [
    "ds_comb.precipitationCal.sel(time = \"2019-07-20 09:00:00\").plot()"
   ]
  },
  {
   "cell_type": "code",
   "execution_count": 9,
   "id": "e270585a",
   "metadata": {},
   "outputs": [],
   "source": [
    "client = Client()"
   ]
  },
  {
   "cell_type": "code",
   "execution_count": 49,
   "id": "fc42e1ff",
   "metadata": {
    "scrolled": true
   },
   "outputs": [],
   "source": [
    "ccscale99_t2m = binning.get_binned_3d(ds_comb.sel(lat = slice(12,14), lon = slice(68,70)), min=1, percentile_val=0.99, var = \"t2m\", var_bin=\"t2m_bins\", bin_nr=12)"
   ]
  },
  {
   "cell_type": "code",
   "execution_count": 52,
   "id": "ed865490",
   "metadata": {},
   "outputs": [],
   "source": [
    "ccscale99_d2m = binning.get_binned_3d(ds_comb.sel(lat = slice(12,14), lon = slice(68,70)), min=1, percentile_val=0.99, var = \"d2m\", var_bin=\"d2m_bins\", bin_nr=12)"
   ]
  },
  {
   "cell_type": "code",
   "execution_count": 59,
   "id": "9fff0609",
   "metadata": {},
   "outputs": [
    {
     "data": {
      "image/png": "[encoded data removed]",
      "text/plain": [
       "<Figure size 432x288 with 2 Axes>"
      ]
     },
     "metadata": {
      "needs_background": "light"
     },
     "output_type": "display_data"
    }
   ],
   "source": [
    "# fig, ax = plt.figure(figsize=(20, 15))\n",
    "ax = fig.add_subplot(1,1,1, projection=ccrs.Mercator())\n",
    "ax.set_extent([68, 70, 12, 14], crs=ccrs.Mercator())\n",
    "ccscale99_t2m.plot()\n",
    "gridliner = ax.gridlines(crs=ccrs.Mercator())\n",
    "# gridliner.top_labels = False\n",
    "# gridliner.bottom_labels = True\n",
    "# gridliner.left_labels = True\n",
    "# gridliner.right_labels = False\n",
    "gridliner.ylines = False  # you need False\n",
    "gridliner.xlines = False  # you need False\n",
    "ax.add_feature(cfeature.COASTLINE)\n",
    "ax.add_feature(cfeature.BORDERS)\n",
    "\n",
    "plt.title('99th Percentile T2')\n",
    "\n",
    "plt.savefig('./images/ccscale99_t2m.pdf', dpi=300)\n",
    "\n",
    "# fig.tight_layout()"
   ]
  },
  {
   "cell_type": "code",
   "execution_count": 60,
   "id": "ed2fb9da",
   "metadata": {},
   "outputs": [
    {
     "data": {
      "image/png": "[encoded data removed]",
      "text/plain": [
       "<Figure size 432x288 with 2 Axes>"
      ]
     },
     "metadata": {
      "needs_background": "light"
     },
     "output_type": "display_data"
    }
   ],
   "source": [
    "# fig, ax = plt.figure(figsize=(20, 15))\n",
    "ax = fig.add_subplot(1,1,1, projection=ccrs.Mercator())\n",
    "ax.set_extent([68, 70, 12, 14], crs=ccrs.Mercator())\n",
    "ccscale99_d2m.plot()\n",
    "gridliner = ax.gridlines(crs=ccrs.Mercator())\n",
    "# gridliner.top_labels = False\n",
    "# gridliner.bottom_labels = True\n",
    "# gridliner.left_labels = True\n",
    "# gridliner.right_labels = False\n",
    "gridliner.ylines = False  # you need False\n",
    "gridliner.xlines = False  # you need False\n",
    "ax.add_feature(cfeature.COASTLINE)\n",
    "ax.add_feature(cfeature.BORDERS)\n",
    "\n",
    "plt.title('99th Percentile D2')\n",
    "\n",
    "plt.savefig('./images/ccscale99_d2m.pdf', dpi=300)\n",
    "\n",
    "# fig.tight_layout()"
   ]
  },
  {
   "cell_type": "code",
   "execution_count": 54,
   "id": "048479f8",
   "metadata": {},
   "outputs": [],
   "source": [
    "ccscale50_t2m = binning.get_binned_3d(ds_comb.sel(lat = slice(12,14), lon = slice(68,70)), min=1, percentile_val=0.50, var = \"t2m\", var_bin=\"t2m_bins\", bin_nr=12)"
   ]
  },
  {
   "cell_type": "code",
   "execution_count": 55,
   "id": "49770bce",
   "metadata": {},
   "outputs": [],
   "source": [
    "ccscale50_d2m = binning.get_binned_3d(ds_comb.sel(lat = slice(12,14), lon = slice(68,70)), min=1, percentile_val=0.50, var = \"d2m\", var_bin=\"d2m_bins\", bin_nr=12)"
   ]
  },
  {
   "cell_type": "code",
   "execution_count": 61,
   "id": "e657cd66",
   "metadata": {},
   "outputs": [
    {
     "data": {
      "image/png": "[encoded data removed]",
      "text/plain": [
       "<Figure size 432x288 with 2 Axes>"
      ]
     },
     "metadata": {
      "needs_background": "light"
     },
     "output_type": "display_data"
    }
   ],
   "source": [
    "# fig, ax = plt.figure(figsize=(20, 15))\n",
    "ax = fig.add_subplot(1,1,1, projection=ccrs.Mercator())\n",
    "ax.set_extent([68, 70, 12, 14], crs=ccrs.Mercator())\n",
    "ccscale50_t2m.plot(cmap = \"RdBu\")\n",
    "gridliner = ax.gridlines(crs=ccrs.Mercator())\n",
    "# gridliner.top_labels = False\n",
    "# gridliner.bottom_labels = True\n",
    "# gridliner.left_labels = True\n",
    "# gridliner.right_labels = False\n",
    "gridliner.ylines = False  # you need False\n",
    "gridliner.xlines = False  # you need False\n",
    "ax.add_feature(cfeature.COASTLINE)\n",
    "ax.add_feature(cfeature.BORDERS)\n",
    "\n",
    "plt.title('50th Percentile T2')\n",
    "\n",
    "plt.savefig('./images/ccscale50_t2m.pdf', dpi=300)\n",
    "\n",
    "# fig.tight_layout()"
   ]
  },
  {
   "cell_type": "code",
   "execution_count": 62,
   "id": "0091b517",
   "metadata": {},
   "outputs": [
    {
     "data": {
      "image/png": "[encoded data removed]",
      "text/plain": [
       "<Figure size 432x288 with 2 Axes>"
      ]
     },
     "metadata": {
      "needs_background": "light"
     },
     "output_type": "display_data"
    }
   ],
   "source": [
    "# fig, ax = plt.figure(figsize=(20, 15))\n",
    "ax = fig.add_subplot(1,1,1, projection=ccrs.Mercator())\n",
    "ax.set_extent([68, 70, 12, 14], crs=ccrs.Mercator())\n",
    "ccscale50_d2m.plot()\n",
    "gridliner = ax.gridlines(crs=ccrs.Mercator())\n",
    "# gridliner.top_labels = False\n",
    "# gridliner.bottom_labels = True\n",
    "# gridliner.left_labels = True\n",
    "# gridliner.right_labels = False\n",
    "gridliner.ylines = False  # you need False\n",
    "gridliner.xlines = False  # you need False\n",
    "ax.add_feature(cfeature.COASTLINE)\n",
    "ax.add_feature(cfeature.BORDERS)\n",
    "\n",
    "plt.title('50th Percentile D2')\n",
    "\n",
    "plt.savefig('./images/ccscale50_d2m.pdf', dpi=300)\n",
    "\n",
    "# fig.tight_layout()"
   ]
  },
  {
   "cell_type": "markdown",
   "id": "47baee1b",
   "metadata": {},
   "source": [
    "### Ignore the code from here (just here for my reference)"
   ]
  },
  {
   "cell_type": "code",
   "execution_count": 63,
   "id": "4c79a9bb",
   "metadata": {},
   "outputs": [],
   "source": [
    "# precip = ds_comb.precipitationCal\n",
    "# t2m = ds_comb\n",
    "# d2m = ds_comb"
   ]
  },
  {
   "cell_type": "code",
   "execution_count": 64,
   "id": "30ca0a76",
   "metadata": {},
   "outputs": [],
   "source": [
    "# # Set values less than 5 mm/hr to nan\n",
    "\n",
    "# precip = xr.where(precip < 1, np.nan, precip)\n",
    "# t2m = t2m.where(precip != np.nan)\n",
    "# d2m = d2m.where(precip != np.nan)"
   ]
  },
  {
   "cell_type": "code",
   "execution_count": 65,
   "id": "171d73a9",
   "metadata": {},
   "outputs": [],
   "source": [
    "# ds_comb = xr.merge([precip, t2m, d2m]).chunk(dict(time=-1))\n",
    "# ds_comb"
   ]
  },
  {
   "cell_type": "code",
   "execution_count": 66,
   "id": "a0404f9d",
   "metadata": {},
   "outputs": [],
   "source": [
    "# # util function to determing the number of bins\n",
    "# def equalObs(x, nbin):\n",
    "#     nlen = len(x)\n",
    "#     return np.interp(np.linspace(0, nlen, nbin + 1),\n",
    "#                      np.arange(nlen),\n",
    "#                      np.sort(x, axis= None))\n",
    "\n",
    "# #-----------------------------------------------------#\n",
    "\n",
    "# # Using function\n",
    "\n",
    "# # get binned data\n",
    "# def get_binned(ds, percentile_val = 0.99, var = \"t2m\", bins = None, bin_nr = 12):\n",
    "#     if bins == None:\n",
    "#         #create histogram with equal-frequency bins\n",
    "#         # n, bins, patches = plt.hist(ds[var], equalObs(ds[var], bin_nr))\n",
    "#         # plt.show()\n",
    "#         bins = equalObs(ds[var], bin_nr)\n",
    "#     else:\n",
    "#         bins = np.array(bins)\n",
    "\n",
    "#     binned_ds = ds.groupby_bins(ds[var], bins).quantile(percentile_val, interpolation = 'midpoint')\n",
    "#     return binned_ds\n"
   ]
  },
  {
   "cell_type": "code",
   "execution_count": 67,
   "id": "939770f1",
   "metadata": {},
   "outputs": [],
   "source": [
    "# precip = ds_comb.precipitationCal.to_numpy()\n",
    "# t2m = ds_comb.t2m.to_numpy()\n",
    "# d2m = ds_comb.d2m.to_numpy()"
   ]
  },
  {
   "cell_type": "code",
   "execution_count": 68,
   "id": "223189c0",
   "metadata": {},
   "outputs": [],
   "source": [
    "# t2m.shape"
   ]
  },
  {
   "cell_type": "code",
   "execution_count": 69,
   "id": "872223b1",
   "metadata": {},
   "outputs": [],
   "source": [
    "# bins = np.apply_along_axis(equalObs, 0, t2m, 12)"
   ]
  },
  {
   "cell_type": "code",
   "execution_count": 70,
   "id": "e78672fc",
   "metadata": {},
   "outputs": [],
   "source": [
    "# bins.shape"
   ]
  },
  {
   "cell_type": "code",
   "execution_count": 71,
   "id": "6f2cf378",
   "metadata": {},
   "outputs": [],
   "source": [
    "# binned_ds = np.zeros((len(bins[0]), len(bins[0][0])))\n",
    "\n",
    "# for lat in range(len(bins[0])):\n",
    "#     for lon in range(len(bins[0][0])):\n",
    "#         y = ds_comb.isel(lat = lat, lon = lon).groupby_bins(ds_comb.t2m.isel(lat = lat, lon = lon), bins[:, lat, lon]).quantile(0.99, interpolation='midpoint')\n",
    "        \n",
    "#         bin_array = y.coords['t2m_bins'].to_numpy()\n",
    "#         bin_mids = []\n",
    "\n",
    "#         for i in range(0, len(bin_array)):\n",
    "#             bin_mid = (bin_array[i].left + bin_array[i].right)*0.5\n",
    "#             bin_mids.append(bin_mid)\n",
    "\n",
    "#         mids = np.array(bin_mids)\n",
    "        \n",
    "#         if np.isnan(np.sum(y.precipitationCal.to_numpy())):\n",
    "#             slope = np.nan\n",
    "#         else:\n",
    "#             slope = np.polyfit(mids, y.precipitationCal.to_numpy(), 1)[0]\n",
    "        \n",
    "#         binned_ds[lat, lon] = binned_ds[lat, lon] + slope"
   ]
  },
  {
   "cell_type": "code",
   "execution_count": 72,
   "id": "217f489a",
   "metadata": {},
   "outputs": [],
   "source": [
    "# y = ds_comb.isel(lat = 58, lon = 90).groupby_bins(ds_comb.t2m.isel(lat = 58, lon = 90), bins[:, 58, 90]).quantile(0.99, interpolation='midpoint')\n",
    "\n",
    "# bin_array = y.coords['t2m_bins'].to_numpy()\n",
    "# bin_mids = []\n",
    "\n",
    "# for i in range(0, len(bin_array)):\n",
    "#     bin_mid = (bin_array[i].left + bin_array[i].right)*0.5\n",
    "#     bin_mids.append(bin_mid)\n",
    "\n",
    "# mids = np.array(bin_mids)\n",
    "\n",
    "# np.polyfit(mids, y.precipitationCal.to_numpy(), 1)[0]"
   ]
  },
  {
   "cell_type": "code",
   "execution_count": 73,
   "id": "3e901f73",
   "metadata": {},
   "outputs": [],
   "source": [
    "# y = ds_comb.isel(lat = 10, lon = 10).groupby_bins(ds_comb.t2m.isel(lat = 10, lon = 10), bins[:, 10, 10]).quantile(0.99, interpolation='midpoint')\n",
    "\n",
    "# bin_array = y.coords['t2m_bins'].to_numpy()\n",
    "# bin_mids = []\n",
    "\n",
    "# for i in range(0, len(bin_array)):\n",
    "#     bin_mid = (bin_array[i].left + bin_array[i].right)*0.5\n",
    "#     bin_mids.append(bin_mid)\n",
    "\n",
    "# mids = np.array(bin_mids)\n",
    "\n",
    "# if np.isnan(np.sum(y.precipitationCal.to_numpy())):\n",
    "#     slope = np.nan\n",
    "# else:\n",
    "#     slope =  np.polyfit(mids, y.precipitationCal.to_numpy(), 1)[0]"
   ]
  },
  {
   "cell_type": "code",
   "execution_count": 74,
   "id": "f62ded9d",
   "metadata": {},
   "outputs": [],
   "source": [
    "# binned_ds"
   ]
  },
  {
   "cell_type": "code",
   "execution_count": 75,
   "id": "c3de24c3",
   "metadata": {},
   "outputs": [],
   "source": [
    "# ccscale = xr.DataArray(binned_ds, dims=(\"lat\", \"lon\"), coords={\"lat\": ds_comb.coords['lat'], \"lon\": ds_comb.coords['lon']}, attrs=dict(description=\"C-C scale\", units=\"degC$^{-1}$\"))"
   ]
  },
  {
   "cell_type": "code",
   "execution_count": 76,
   "id": "c2af6a24",
   "metadata": {},
   "outputs": [],
   "source": [
    "# ccscale.plot(cmap = \"bwr\")"
   ]
  },
  {
   "cell_type": "code",
   "execution_count": 77,
   "id": "9ae207fd",
   "metadata": {},
   "outputs": [],
   "source": [
    "# ccscale"
   ]
  },
  {
   "cell_type": "code",
   "execution_count": null,
   "id": "470165b2",
   "metadata": {},
   "outputs": [],
   "source": []
  }
 ],
 "metadata": {
  "kernelspec": {
   "display_name": "Python 3 (ipykernel)",
   "language": "python",
   "name": "python3"
  },
  "language_info": {
   "codemirror_mode": {
    "name": "ipython",
    "version": 3
   },
   "file_extension": ".py",
   "mimetype": "text/x-python",
   "name": "python",
   "nbconvert_exporter": "python",
   "pygments_lexer": "ipython3",
   "version": "3.8.6"
  }
 },
 "nbformat": 4,
 "nbformat_minor": 5
}
