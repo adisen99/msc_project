{
 "cells": [
  {
   "cell_type": "markdown",
   "id": "b5fcbb41",
   "metadata": {},
   "source": [
    "## making test plots"
   ]
  },
  {
   "cell_type": "code",
   "execution_count": 8,
   "id": "c7a40118",
   "metadata": {},
   "outputs": [],
   "source": [
    "import numpy as np\n",
    "import matplotlib.pyplot as plt\n",
    "import xarray as xr\n",
    "import cartopy.crs as ccrs\n",
    "import cartopy.feature as cfeature\n",
    "import netCDF4\n",
    "# import pandas as pd\n",
    "import dask\n",
    "# from mpl_toolkits.basemap import Basemap\n",
    "# from datetime import datetime\n",
    "# from datetime import timedelta\n",
    "# from scipy import stats\n",
    "# import scipy.interpolate as interp\n",
    "# from dask.distributed import Client\n",
    "%matplotlib inline"
   ]
  },
  {
   "cell_type": "code",
   "execution_count": 9,
   "id": "f0971c64",
   "metadata": {},
   "outputs": [],
   "source": [
    "from functions import ccplot, binning"
   ]
  },
  {
   "cell_type": "code",
   "execution_count": 10,
   "id": "c13a6dbe",
   "metadata": {},
   "outputs": [],
   "source": [
    "import seaborn as sns\n",
    "# Use seaborn style defaults and set default figure size\n",
    "# plt.style.use('seaborn-pastel')\n",
    "# sns.set_theme(style=\"ticks\")\n",
    "plt.style.use(['science', 'notebook'])"
   ]
  },
  {
   "cell_type": "code",
   "execution_count": 11,
   "id": "7a6d5b24",
   "metadata": {},
   "outputs": [
    {
     "data": {
      "text/plain": [
       "<xarray.core.options.set_options at 0x7f24dc206460>"
      ]
     },
     "execution_count": 11,
     "metadata": {},
     "output_type": "execute_result"
    }
   ],
   "source": [
    "# Colormap selection\n",
    "xr.set_options(cmap_divergent='RdBu', cmap_sequential='YlGnBu')"
   ]
  },
  {
   "cell_type": "code",
   "execution_count": 12,
   "id": "708fc087",
   "metadata": {},
   "outputs": [],
   "source": [
    "mfdata_DIR = './data/GPM_lowres_data/*.nc'\n",
    "\n",
    "gpm = xr.open_mfdataset(mfdata_DIR, chunks=dict(time=8000, lat=40, lon=40), engine='netcdf4', combine='nested', concat_dim='time', parallel=True)\n",
    "# gpm = xr.open_mfdataset(mfdata_DIR, engine='netcdf4', combine='nested', concat_dim='time', parallel=True)\n",
    "# gpm = xr.open_dataset('./data/GPM_data/gpm_2000.nc', chunks={\"time\":2000})"
   ]
  },
  {
   "cell_type": "code",
   "execution_count": 13,
   "id": "e08d7e4c",
   "metadata": {},
   "outputs": [
    {
     "data": {
      "text/plain": [
       "Frozen({'time': (8000, 2272, 8000, 8000, 1520, 8000, 8000, 1520, 8000, 8000, 1520, 8000, 8000, 1568, 8000, 8000, 1520, 8000, 8000, 1520, 8000, 8000, 1520, 8000, 8000, 1568, 8000, 8000, 1520, 8000, 8000, 1520, 8000, 8000, 1520, 8000, 8000, 1568, 8000, 8000, 1520, 8000, 8000, 1520, 8000, 8000, 1520, 8000, 8000, 1568, 8000, 8000, 1520, 8000, 8000, 1520, 8000, 8000, 1520, 8000, 8000, 1568, 8000, 688), 'lat': (40, 40, 40, 40, 1), 'lon': (40, 40, 40, 40, 1)})"
      ]
     },
     "execution_count": 13,
     "metadata": {},
     "output_type": "execute_result"
    }
   ],
   "source": [
    "gpm = gpm.unify_chunks()\n",
    "gpm.chunks"
   ]
  },
  {
   "cell_type": "code",
   "execution_count": 14,
   "id": "707397e6",
   "metadata": {},
   "outputs": [],
   "source": [
    "mfdata_DIR2 = './data/era_data/*.nc'\n",
    "\n",
    "era = xr.open_mfdataset(mfdata_DIR2, chunks=dict(time=8000, lat=40, lon=40), engine='netcdf4', combine='nested', concat_dim='time', parallel=True)\n",
    "# era = xr.open_mfdataset(mfdata_DIR2, engine='netcdf4', combine='nested', concat_dim='time', parallel=True)"
   ]
  },
  {
   "cell_type": "code",
   "execution_count": 15,
   "id": "0d030876",
   "metadata": {},
   "outputs": [
    {
     "data": {
      "text/plain": [
       "Frozen({'time': (8000, 784, 8000, 760, 8000, 760, 8000, 760, 8000, 784, 8000, 760, 8000, 760, 8000, 760, 8000, 784, 8000, 760, 8000, 760, 8000, 760, 8000, 784, 8000, 760, 8000, 760, 8000, 760, 8000, 784, 8000, 760, 8000, 760, 8000, 760, 8000, 784, 6775), 'latitude': (161,), 'longitude': (161,), 'expver': (2,)})"
      ]
     },
     "execution_count": 15,
     "metadata": {},
     "output_type": "execute_result"
    }
   ],
   "source": [
    "era = era.unify_chunks()\n",
    "era.chunks"
   ]
  },
  {
   "cell_type": "code",
   "execution_count": 16,
   "id": "bbcc0372",
   "metadata": {},
   "outputs": [],
   "source": [
    "era = era.sel(expver=1, drop=True)"
   ]
  },
  {
   "cell_type": "code",
   "execution_count": 17,
   "id": "df41a775",
   "metadata": {},
   "outputs": [],
   "source": [
    "era = era.transpose('time', 'latitude', 'longitude')\n",
    "era = era.rename({'longitude':'lon', 'latitude':'lat'})\n",
    "era = era.sel(time = slice(\"2000-06-01 00:00:00\",\"2021-06-30 23:00:00\"))"
   ]
  },
  {
   "cell_type": "code",
   "execution_count": 33,
   "id": "20e2ec69",
   "metadata": {},
   "outputs": [],
   "source": [
    "def plot(da, extent_list, title=None, **kwargs):\n",
    "    ax = plt.axes(projection=ccrs.PlateCarree())\n",
    "    ax.set_extent(extent_list, crs=ccrs.PlateCarree())\n",
    "    da.plot.contourf(ax = ax, **kwargs)\n",
    "    gridliner = ax.gridlines(crs=ccrs.PlateCarree(), draw_labels=True, linewidth=2, color='gray', alpha=0.05, linestyle='--')\n",
    "    # ax.coastlines(alpha=0.7)\n",
    "    # ax.add_feature(cfeature.BORDERS, alpha=0.7)\n",
    "    ax.add_feature(cfeature.COASTLINE, alpha=1.0)\n",
    "    gridliner.top_labels = False\n",
    "    gridliner.right_labels = False\n",
    "    gridliner.ylines = False  # you need False\n",
    "    gridliner.xlines = False  # you need False\n",
    "    if title != None:\n",
    "        ax.set_title(title)\n",
    "    # ax.set_xlabel('Longitude')\n",
    "    # ax.set_ylabel('Latitude')\n",
    "#     ax.tick_params(axis='both', labelsize=12)"
   ]
  },
  {
   "cell_type": "code",
   "execution_count": 23,
   "id": "2faae0fa",
   "metadata": {},
   "outputs": [
    {
     "name": "stderr",
     "output_type": "stream",
     "text": [
      "/home/nkv/.miniconda/lib/python3.9/site-packages/dask/array/numpy_compat.py:39: RuntimeWarning: invalid value encountered in true_divide\n",
      "  x = np.divide(x1, x2, out)\n"
     ]
    }
   ],
   "source": [
    "era_mean = era.mean(dim='time').compute()"
   ]
  },
  {
   "cell_type": "code",
   "execution_count": 35,
   "id": "4ebeaec3",
   "metadata": {},
   "outputs": [],
   "source": [
    "t2m_anomaly = ((era.t2m - era_mean.t2m)/era_mean.t2m)*100\n",
    "d2m_anomaly = ((era.d2m - era_mean.d2m)/era_mean.d2m)*100\n",
    "sst_anomaly = ((era.sst - era_mean.sst)/era_mean.sst)*100"
   ]
  },
  {
   "cell_type": "code",
   "execution_count": 40,
   "id": "a0280676",
   "metadata": {},
   "outputs": [
    {
     "data": {
      "image/png": "[encoded data removed]",
      "text/plain": [
       "<Figure size 576x432 with 2 Axes>"
      ]
     },
     "metadata": {
      "needs_background": "light"
     },
     "output_type": "display_data"
    }
   ],
   "source": [
    "plot(d2m_anomaly.sel(time=slice(\"2019-06-01 09:00:00\",\"2019-09-30 23:00:00\")).mean(dim='time'), extent_list=[59.9, 100.1, -0.1, 40.1], title='2019 JJAS', levels=20, cmap='RdBu_r', cbar_kwargs={'label':'T2 anomaly (in $\\%$)'})"
   ]
  },
  {
   "cell_type": "code",
   "execution_count": 52,
   "id": "ae365898",
   "metadata": {},
   "outputs": [],
   "source": [
    "# plt.figure(figsize=(15,4))\n",
    "# t2m_anomaly.sel(time=slice(\"2019-06-01 09:00:00\",\"2019-06-30 23:00:00\")).mean(dim=['lat', 'lon']).plot()\n",
    "# plt.savefig('./images/test.pdf', dpi=300)"
   ]
  },
  {
   "cell_type": "markdown",
   "id": "363ca2f8",
   "metadata": {},
   "source": [
    "## testing quantreg"
   ]
  },
  {
   "cell_type": "code",
   "execution_count": 1,
   "id": "09e04cb9",
   "metadata": {},
   "outputs": [],
   "source": [
    "import numpy as np\n",
    "import matplotlib.pyplot as plt\n",
    "from sklearn.linear_model import QuantileRegressor\n",
    "from sklearn.pipeline import make_pipeline\n",
    "from sklearn.svm import SVC"
   ]
  },
  {
   "cell_type": "code",
   "execution_count": 2,
   "id": "b549f98f",
   "metadata": {},
   "outputs": [],
   "source": [
    "rng = np.random.RandomState(42)"
   ]
  },
  {
   "cell_type": "code",
   "execution_count": 3,
   "id": "a9866c5b",
   "metadata": {},
   "outputs": [],
   "source": [
    "x = np.linspace(0, 10, 2000)\n",
    "X = x[:, np.newaxis]"
   ]
  },
  {
   "cell_type": "code",
   "execution_count": 4,
   "id": "91f88321",
   "metadata": {},
   "outputs": [
    {
     "data": {
      "text/plain": [
       "(2000, 1)"
      ]
     },
     "execution_count": 4,
     "metadata": {},
     "output_type": "execute_result"
    }
   ],
   "source": [
    "X.shape"
   ]
  },
  {
   "cell_type": "code",
   "execution_count": 5,
   "id": "fd10a113",
   "metadata": {},
   "outputs": [],
   "source": [
    "y_true_mean = 10 + 0.5 * x"
   ]
  },
  {
   "cell_type": "code",
   "execution_count": 6,
   "id": "8183f3bd",
   "metadata": {},
   "outputs": [],
   "source": [
    "y_normal = y_true_mean + rng.normal(loc=0, scale=0.5 + 0.5 * x, size=x.shape[0])"
   ]
  },
  {
   "cell_type": "code",
   "execution_count": 7,
   "id": "dce24b92",
   "metadata": {},
   "outputs": [],
   "source": [
    "a = 5\n",
    "y_pareto = y_true_mean + 10 * (rng.pareto(a, size=x.shape[0]) - 1 / (a - 1))"
   ]
  },
  {
   "cell_type": "code",
   "execution_count": 8,
   "id": "0c01263a",
   "metadata": {},
   "outputs": [
    {
     "data": {
      "text/plain": [
       "(2000,)"
      ]
     },
     "execution_count": 8,
     "metadata": {},
     "output_type": "execute_result"
    }
   ],
   "source": [
    "y_pareto.shape"
   ]
  },
  {
   "cell_type": "code",
   "execution_count": 9,
   "id": "4d0c2285",
   "metadata": {},
   "outputs": [],
   "source": [
    "qr = QuantileRegressor(quantile=0.99, alpha=0)"
   ]
  },
  {
   "cell_type": "code",
   "execution_count": 10,
   "id": "fbb9d7b1",
   "metadata": {},
   "outputs": [],
   "source": [
    "qr5 = QuantileRegressor(quantile=0.50, alpha=0)"
   ]
  },
  {
   "cell_type": "code",
   "execution_count": 11,
   "id": "0eeea5fc",
   "metadata": {},
   "outputs": [],
   "source": [
    "y_pred = qr.fit(X, y_normal).predict(X)"
   ]
  },
  {
   "cell_type": "code",
   "execution_count": 21,
   "id": "13ddb8ac",
   "metadata": {},
   "outputs": [],
   "source": [
    "y_pred5 = qr5.fit(X, y_normal).predict(X)"
   ]
  },
  {
   "cell_type": "code",
   "execution_count": 12,
   "id": "92fda178",
   "metadata": {},
   "outputs": [
    {
     "data": {
      "text/plain": [
       "<matplotlib.collections.PathCollection at 0x7f3b78dbdd60>"
      ]
     },
     "execution_count": 12,
     "metadata": {},
     "output_type": "execute_result"
    },
    {
     "data": {
      "image/png": "[encoded data removed]",
      "text/plain": [
       "<Figure size 432x288 with 1 Axes>"
      ]
     },
     "metadata": {
      "needs_background": "light"
     },
     "output_type": "display_data"
    }
   ],
   "source": [
    "plt.plot(x, y_pred)\n",
    "# plt.plot(x, y_pred5)\n",
    "plt.scatter(x, y_normal)"
   ]
  },
  {
   "cell_type": "code",
   "execution_count": null,
   "id": "9ec3ea2b",
   "metadata": {},
   "outputs": [],
   "source": []
  }
 ],
 "metadata": {
  "kernelspec": {
   "display_name": "Python 3 (ipykernel)",
   "language": "python",
   "name": "python3"
  },
  "language_info": {
   "codemirror_mode": {
    "name": "ipython",
    "version": 3
   },
   "file_extension": ".py",
   "mimetype": "text/x-python",
   "name": "python",
   "nbconvert_exporter": "python",
   "pygments_lexer": "ipython3",
   "version": "3.9.7"
  }
 },
 "nbformat": 4,
 "nbformat_minor": 5
}
