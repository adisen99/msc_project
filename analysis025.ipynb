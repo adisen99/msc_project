{
 "cells": [
  {
   "cell_type": "markdown",
   "id": "ce6c1fe9",
   "metadata": {},
   "source": [
    "# MSc Project : analysis 025 scaling method-2 and contribution."
   ]
  },
  {
   "cell_type": "code",
   "execution_count": 1,
   "id": "ebc42c0e",
   "metadata": {},
   "outputs": [],
   "source": [
    "import numpy as np\n",
    "import matplotlib.pyplot as plt\n",
    "import matplotlib as m\n",
    "import xarray as xr\n",
    "import cartopy.crs as ccrs\n",
    "import cartopy.feature as cfeature\n",
    "import netCDF4\n",
    "# import pandas as pd\n",
    "import dask\n",
    "# from mpl_toolkits.basemap import Basemap\n",
    "# from datetime import datetime\n",
    "# from datetime import timedelta\n",
    "# from scipy import stats\n",
    "# import scipy.interpolate as interp \n",
    "%matplotlib inline"
   ]
  },
  {
   "cell_type": "code",
   "execution_count": 2,
   "id": "99d108a7",
   "metadata": {},
   "outputs": [],
   "source": [
    "from functions import ccplot, binning"
   ]
  },
  {
   "cell_type": "code",
   "execution_count": 3,
   "id": "10ea2613",
   "metadata": {},
   "outputs": [],
   "source": [
    "# import seaborn as sns\n",
    "# Use seaborn style defaults and set default figure size\n",
    "# plt.style.use('seaborn-pastel')\n",
    "# sns.set_theme(style=\"ticks\")\n",
    "# plt.style.use(['science', 'notebook'])\n",
    "plt.style.use('tableau-colorblind10')"
   ]
  },
  {
   "cell_type": "code",
   "execution_count": null,
   "id": "37806a45",
   "metadata": {},
   "outputs": [],
   "source": []
  }
 ],
 "metadata": {
  "kernelspec": {
   "display_name": "Python 3 (ipykernel)",
   "language": "python",
   "name": "python3"
  },
  "language_info": {
   "codemirror_mode": {
    "name": "ipython",
    "version": 3
   },
   "file_extension": ".py",
   "mimetype": "text/x-python",
   "name": "python",
   "nbconvert_exporter": "python",
   "pygments_lexer": "ipython3",
   "version": "3.9.7"
  }
 },
 "nbformat": 4,
 "nbformat_minor": 5
}
